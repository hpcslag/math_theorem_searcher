{
 "cells": [
  {
   "cell_type": "code",
   "execution_count": 2,
   "metadata": {},
   "outputs": [],
   "source": [
    "import pytorch_lightning as pl\n",
    "import argparse\n",
    "import os\n",
    "import pickle\n",
    "import naturalproofs.dataloaders as dataloaders\n",
    "import naturalproofs.model as mutils\n",
    "import torch\n",
    "import transformers\n",
    "from collections import defaultdict\n",
    "from tqdm import tqdm\n",
    "from pathlib import Path\n",
    "import naturalproofs.model_bert_no_training as model_bert\n",
    "import json"
   ]
  },
  {
   "cell_type": "code",
   "execution_count": 3,
   "metadata": {},
   "outputs": [],
   "source": [
    "# use default bert (bert-base-cased)\n",
    "tokenizer = transformers.AutoTokenizer.from_pretrained('bert-base-cased')"
   ]
  },
  {
   "cell_type": "code",
   "execution_count": 4,
   "metadata": {},
   "outputs": [],
   "source": [
    "# load model\n",
    "model = mutils.Classifier.load_from_checkpoint('ckpt\\pairwise_proofwiki.ckpt')\n",
    "# import naturalproofs.model_bert_no_training as model_bert\n",
    "# tokenizer = transformers.AutoTokenizer.from_pretrained('bert-base-cased')\n",
    "# model = model_bert.Classifier(\n",
    "#     pad_idx=tokenizer.pad_token_id,\n",
    "#     model_type='bert-base-cased',\n",
    "#     aggregate='avg'\n",
    "# )"
   ]
  },
  {
   "cell_type": "code",
   "execution_count": 5,
   "metadata": {},
   "outputs": [
    {
     "name": "stdout",
     "output_type": "stream",
     "text": [
      "Loading data\n"
     ]
    }
   ],
   "source": [
    "print(\"Loading data\")\n",
    "ds_raw = pickle.load(open('data\\pairwise_proofwiki__bert-base-cased.pkl', 'rb'))"
   ]
  },
  {
   "cell_type": "code",
   "execution_count": 6,
   "metadata": {},
   "outputs": [
    {
     "name": "stdout",
     "output_type": "stream",
     "text": [
      "44 batches (1135 x)\n",
      "1195 batches (30671 r)\n",
      "1135 examples\t30671 refs\n"
     ]
    }
   ],
   "source": [
    "xdl, rdl, x2rs = dataloaders.get_eval_dataloaders(\n",
    "        ds_raw,\n",
    "        pad=tokenizer.pad_token_id,\n",
    "        token_limit=8192,\n",
    "        workers=0,\n",
    "        split_name='test'\n",
    "    )\n",
    "print(\"%d examples\\t%d refs\" % (len(xdl.dataset.data), len(rdl.dataset.data)))\n",
    "\n",
    "ref_dl = rdl\n",
    "ex_dl = xdl"
   ]
  },
  {
   "cell_type": "code",
   "execution_count": 7,
   "metadata": {},
   "outputs": [
    {
     "name": "stdout",
     "output_type": "stream",
     "text": [
      "Pre-encoding references...\n"
     ]
    },
    {
     "name": "stderr",
     "output_type": "stream",
     "text": [
      "100%|██████████| 1195/1195 [03:21<00:00,  5.93it/s]\n"
     ]
    }
   ],
   "source": [
    "model.eval()\n",
    "model.cuda()\n",
    "torch.set_grad_enabled(False)\n",
    "r_encs, rids = model.pre_encode_refs(ref_dl, progressbar=True)"
   ]
  },
  {
   "cell_type": "code",
   "execution_count": 10,
   "metadata": {},
   "outputs": [
    {
     "name": "stdout",
     "output_type": "stream",
     "text": [
      "Loading data\n"
     ]
    }
   ],
   "source": [
    "# prepare data (see from analyze.py)\n",
    "print(\"Loading data\")\n",
    "raw_ds = json.load(open('.\\\\data\\\\naturalproofs_proofwiki.json', 'r'))\n",
    "global refs\n",
    "refs = raw_ds['dataset']['theorems'] + raw_ds['dataset']['definitions'] + raw_ds['dataset']['others']\n",
    "global id2ref\n",
    "id2ref = {ref['id'] : ref for ref in refs}"
   ]
  },
  {
   "cell_type": "code",
   "execution_count": 41,
   "metadata": {},
   "outputs": [
    {
     "name": "stdout",
     "output_type": "stream",
     "text": [
      "====> 相關定理:\n",
      "Equivalence of Definitions of Sine and Cosine\n",
      "Law of Cosines/Right Triangle\n",
      "Definition:Triangle (Geometry)/Right-Angled\n",
      "Construction of Square on Given Straight Line\n",
      "Definition:Cosine\n",
      "====> 實際相關定理:\n",
      "====> 定理: Definition:Triangle (Geometry)/Right-Angled\n",
      "====> 定理: Definition:Triangle (Geometry)/Right-Angled/Hypotenuse\n"
     ]
    }
   ],
   "source": [
    "標題=\"Pythagoras's Theorem\"\n",
    "畢達哥拉斯 = \"\"\"\n",
    "Let $\\triangle ABC$ be a [[Definition:Right Triangle|right triangle]] with $c$ as the [[Definition:Hypotenuse|hypotenuse]].\n",
    "\n",
    "Then:\n",
    ":$a^2 + b^2 = c^2$\n",
    "\"\"\"\n",
    "inputs = \"%s%s%s\" % (\n",
    "    標題,\n",
    "    tokenizer.sep_token,\n",
    "    畢達哥拉斯\n",
    ")\n",
    "\n",
    "ids = tokenizer.encode(inputs)\n",
    "x = torch.tensor([ids])\n",
    "x = x.cuda()\n",
    "x_enc = model.encode_x(x) # (B, D)\n",
    "# given x theorem, and many references, get the reference rank\n",
    "logits = model.forward_clf(x_enc, r_encs) # (B, R)\n",
    "\n",
    "x2ranked = defaultdict(list)\n",
    "for b in range(logits.size(0)):\n",
    "    ranked = list(zip(logits[b].tolist(), rids.tolist()))\n",
    "    ranked = sorted(ranked, reverse=True)\n",
    "    x2ranked[xid[b].item()] = ranked\n",
    "\n",
    "    print(\"====> 相關定理:\")\n",
    "    for top5 in range(5):\n",
    "        related_rid = ranked[top5][1]\n",
    "        print(id2ref[related_rid]['title'])\n",
    "    \n",
    "    print(\"====> 實際相關定理:\")\n",
    "    for r in id2ref[3]['refs']:\n",
    "        print(\"====> 定理: \" + r)\n",
    "\n"
   ]
  },
  {
   "cell_type": "code",
   "execution_count": 40,
   "metadata": {},
   "outputs": [
    {
     "data": {
      "text/plain": [
       "['Definition:Triangle (Geometry)/Right-Angled',\n",
       " 'Definition:Triangle (Geometry)/Right-Angled/Hypotenuse']"
      ]
     },
     "execution_count": 40,
     "metadata": {},
     "output_type": "execute_result"
    }
   ],
   "source": [
    "id2ref[3].keys()\n",
    "id2ref[3]['refs']"
   ]
  },
  {
   "cell_type": "code",
   "execution_count": 58,
   "metadata": {},
   "outputs": [
    {
     "name": "stdout",
     "output_type": "stream",
     "text": [
      "====> 相關定理:\n",
      "Definition:Basic Primitive Recursive Function/Successor Function\n",
      "Predecessor Function is Primitive Recursive\n",
      "Recursive Function uses One Minimization\n",
      "Definition:Primitive Recursion/Partial Function\n",
      "Definition:Basic Primitive Recursive Function\n"
     ]
    }
   ],
   "source": [
    "畢達哥拉斯 = r\"\"\"\n",
    "The '''predecessor function''' $\\operatorname{pred}: \\N \\to \\N$ defined as:\n",
    ":$\\map {\\operatorname{pred} } n = \\begin{cases}\n",
    "0 & : n = 0 \\\\\n",
    "n-1 & : n > 0\n",
    "\\end{cases}$\n",
    "is [[Definition:Primitive Recursive Function|primitive recursive]].\n",
    "\"\"\"\n",
    "\n",
    "inputs = 畢達哥拉斯\n",
    "\n",
    "ids = tokenizer.encode(inputs)\n",
    "x = torch.tensor([ids])\n",
    "x = x.cuda()\n",
    "x_enc = model.encode_x(x) # (B, D)\n",
    "# given x theorem, and many references, get the reference rank\n",
    "logits = model.forward_clf(x_enc, r_encs) # (B, R)\n",
    "\n",
    "for b in range(logits.size(0)):\n",
    "    ranked = list(zip(logits[b].tolist(), rids.tolist()))\n",
    "    ranked = sorted(ranked, reverse=True)\n",
    "\n",
    "    print(\"====> 相關定理:\")\n",
    "    for top5 in range(5):\n",
    "        related_rid = ranked[top5][1]\n",
    "        print(id2ref[related_rid]['title'])\n",
    "\n",
    "\n"
   ]
  },
  {
   "cell_type": "code",
   "execution_count": null,
   "metadata": {},
   "outputs": [],
   "source": [
    "# Refer to pg4, and pg7 see that ranked is mean listing thm that it related"
   ]
  }
 ],
 "metadata": {
  "interpreter": {
   "hash": "cc5f70855ac006f3de45a3cc3b9e7d8d53845e50458809cb162b0174266dec97"
  },
  "kernelspec": {
   "display_name": "Python 3.8.8 ('base')",
   "language": "python",
   "name": "python3"
  },
  "language_info": {
   "codemirror_mode": {
    "name": "ipython",
    "version": 3
   },
   "file_extension": ".py",
   "mimetype": "text/x-python",
   "name": "python",
   "nbconvert_exporter": "python",
   "pygments_lexer": "ipython3",
   "version": "3.7.2"
  },
  "orig_nbformat": 4
 },
 "nbformat": 4,
 "nbformat_minor": 2
}
